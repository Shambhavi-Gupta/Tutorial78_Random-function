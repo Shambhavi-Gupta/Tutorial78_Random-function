{
  "nbformat": 4,
  "nbformat_minor": 0,
  "metadata": {
    "colab": {
      "name": "Tutorial78_Random-function.ipynb",
      "provenance": [],
      "authorship_tag": "ABX9TyO7jlKydzz2E2wRxkOQNASj",
      "include_colab_link": true
    },
    "kernelspec": {
      "name": "python3",
      "display_name": "Python 3"
    }
  },
  "cells": [
    {
      "cell_type": "markdown",
      "metadata": {
        "id": "view-in-github",
        "colab_type": "text"
      },
      "source": [
        "<a href=\"https://colab.research.google.com/github/Shambhavi-Gupta/Tutorial78_Random-function/blob/main/Tutorial78_Random_function.ipynb\" target=\"_parent\"><img src=\"https://colab.research.google.com/assets/colab-badge.svg\" alt=\"Open In Colab\"/></a>"
      ]
    },
    {
      "cell_type": "code",
      "metadata": {
        "id": "7MgHRNzaMIRV"
      },
      "source": [
        "#import numpy as np\r\n",
        "#help(np.random)\r\n",
        "# a = np.random.rand(3,3)\r\n",
        "# print(a)\r\n",
        "# b = np.random.rand(2,3)\r\n",
        "# print(b)\r\n",
        "#help(np.random.rand())\r\n",
        "# a = np.random.rand(2,2)\r\n",
        "# print(a)\r\n",
        "\r\n",
        "# help(np.random.randn())\r\n",
        "# a = np.random.randn(5,2)\r\n",
        "# print(a)\r\n",
        "b = np.random.randn(2,3,4)\r\n",
        "print(b)"
      ],
      "execution_count": null,
      "outputs": []
    }
  ]
}